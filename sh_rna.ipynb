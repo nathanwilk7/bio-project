{
 "cells": [
  {
   "cell_type": "code",
   "execution_count": 2,
   "metadata": {
    "collapsed": true
   },
   "outputs": [],
   "source": [
    "%matplotlib inline\n",
    "\n",
    "import matplotlib.pyplot as plt\n",
    "import pandas as pd\n",
    "from cmapPy.pandasGEXpress import parse"
   ]
  },
  {
   "cell_type": "code",
   "execution_count": 57,
   "metadata": {},
   "outputs": [
    {
     "data": {
      "text/plain": [
       "array(['ctl_vehicle', 'trt_cp', 'ctl_untrt', 'trt_sh.cgs',\n",
       "       'ctl_vehicle.cns', 'ctl_vector.cns', 'ctl_untrt.cns', 'trt_sh.css',\n",
       "       'trt_lig', 'ctl_vector', 'trt_sh', 'trt_oe', 'trt_oe.mut'], dtype=object)"
      ]
     },
     "execution_count": 57,
     "metadata": {},
     "output_type": "execute_result"
    }
   ],
   "source": [
    "sig_info.pert_type.unique()"
   ]
  },
  {
   "cell_type": "code",
   "execution_count": 3,
   "metadata": {},
   "outputs": [
    {
     "name": "stderr",
     "output_type": "stream",
     "text": [
      "/home/nate/bin/anaconda3/envs/cmap/lib/python2.7/site-packages/IPython/core/interactiveshell.py:2718: DtypeWarning: Columns (5) have mixed types. Specify dtype option on import or set low_memory=False.\n",
      "  interactivity=interactivity, compiler=compiler, result=result)\n"
     ]
    },
    {
     "name": "stdout",
     "output_type": "stream",
     "text": [
      "(0, 'of', 473647)\n",
      "(50000, 'of', 473647)\n",
      "(100000, 'of', 473647)\n",
      "(150000, 'of', 473647)\n",
      "(200000, 'of', 473647)\n",
      "(250000, 'of', 473647)\n",
      "(300000, 'of', 473647)\n",
      "(350000, 'of', 473647)\n",
      "(400000, 'of', 473647)\n",
      "(450000, 'of', 473647)\n"
     ]
    }
   ],
   "source": [
    "filepath ='GSE92742_Broad_LINCS_Level5_COMPZ.MODZ_n473647x12328.gctx'\n",
    "siginfopath = 'GSE92742_Broad_LINCS_sig_info.txt'\n",
    "siginfopath = 'GSE92742_Broad_LINCS_sig_info.txt'\n",
    "geneinfopath = 'GSE92742_Broad_LINCS_gene_info.txt'\n",
    "\n",
    "sig_info = pd.read_csv(siginfopath, sep=\"\\t\")\n",
    "gene_info = pd.read_csv(geneinfopath, sep=\"\\t\")\n",
    "\n",
    "landmark_genes = gene_info[gene_info.pr_is_lm == 1].pr_gene_symbol.unique()\n",
    "\n",
    "landmark_sigs = []\n",
    "for i in range(len(sig_info)):\n",
    "    if i % 50000 == 0:\n",
    "        print(i, 'of', len(sig_info))\n",
    "    col_gene_symbol = sig_info.pert_iname.iloc[i]\n",
    "    if col_gene_symbol in landmark_genes:\n",
    "            landmark_sigs.append(sig_info.iloc[i])\n",
    "landmark_sigs = pd.DataFrame(landmark_sigs)\n",
    "sh_rna_sigs = landmark_sigs['sig_id'][landmark_sigs['pert_type'] == 'trt_sh']"
   ]
  },
  {
   "cell_type": "code",
   "execution_count": 38,
   "metadata": {
    "collapsed": true
   },
   "outputs": [],
   "source": [
    "out_csv = 'sh_rna_data_frame.csv'\n",
    "jump_size = 5000\n",
    "t = 0\n",
    "j = jump_size"
   ]
  },
  {
   "cell_type": "code",
   "execution_count": 39,
   "metadata": {
    "scrolled": false
   },
   "outputs": [
    {
     "name": "stdout",
     "output_type": "stream",
     "text": [
      "(5000, 'of', 51255)\n",
      "(10000, 'of', 51255)\n",
      "(15000, 'of', 51255)\n",
      "(20000, 'of', 51255)\n",
      "(25000, 'of', 51255)\n",
      "(30000, 'of', 51255)\n",
      "(35000, 'of', 51255)\n",
      "(40000, 'of', 51255)\n",
      "(45000, 'of', 51255)\n",
      "(50000, 'of', 51255)\n",
      "(55000, 'of', 51255)\n"
     ]
    }
   ],
   "source": [
    "promoters = {}\n",
    "repressors = {}\n",
    "\n",
    "num_to_save = 10\n",
    "while t <= len(sh_rna_sigs):\n",
    "    print(j, 'of', len(sh_rna_sigs))\n",
    "    sh_rna_sigs_subset = sh_rna_sigs[t:min(j, len(sh_rna_sigs))]\n",
    "    sh_rna_gctoo = parse(filepath, cid=sh_rna_sigs_subset, convert_neg_666=True)\n",
    "    sh_rna_gctoo.data_df.to_csv(path_or_buf=out_csv)\n",
    "    df = pd.read_csv(out_csv)\n",
    "    for i in range(1, len(df.columns)):\n",
    "        col_name = df.columns[i]\n",
    "        col = df[col_name]\n",
    "        col_gene_symbol = sig_info[sig_info.sig_id == col_name].pert_iname.iloc[0]\n",
    "\n",
    "        for _ in range(num_to_save):\n",
    "            min_i = col.idxmin()\n",
    "            max_i = col.idxmax()\n",
    "            min_gene_id = df[min_i:min_i+1].rid.iloc[0]\n",
    "            max_gene_id = df[max_i:max_i+1].rid.iloc[0]\n",
    "\n",
    "            min_gene_symbol = gene_info[gene_info.pr_gene_id == min_gene_id].pr_gene_symbol.iloc[0]\n",
    "            max_gene_symbol = gene_info[gene_info.pr_gene_id == max_gene_id].pr_gene_symbol.iloc[0]\n",
    "            \n",
    "            k_min = (col_gene_symbol, min_gene_symbol)\n",
    "            k_max = (col_gene_symbol, max_gene_symbol)\n",
    "            if k_min not in promoters:\n",
    "                promoters[k_min] = []\n",
    "            if k_max not in repressor:\n",
    "                repressors[k_max] = []\n",
    "            \n",
    "            # promotion and repression are swapped\n",
    "            promoter_score = df.loc[min_i, col_name]\n",
    "            repressor_score = df.loc[max_i, col_name]\n",
    "            promoters[k_min].append(promoter_score)\n",
    "            repressors[k_max].append(repressor_score)\n",
    "            \n",
    "            df.loc[max_i, col_name] = 0.0\n",
    "            df.loc[min_i, col_name] = 0.0\n",
    "    t += jump_size\n",
    "    j += jump_size"
   ]
  },
  {
   "cell_type": "code",
   "execution_count": 40,
   "metadata": {
    "collapsed": true
   },
   "outputs": [],
   "source": [
    "import json\n",
    "\n",
    "with open('promoters.json', 'w') as w:\n",
    "    json.dump(promoters, w)\n",
    "with open('repressors.json', 'w') as w:\n",
    "    json.dump(repressors, w)\n",
    "sh_rna_gctoo = None\n",
    "df = None\n",
    "sh_rna_sigs_subset = None"
   ]
  },
  {
   "cell_type": "code",
   "execution_count": 41,
   "metadata": {},
   "outputs": [
    {
     "name": "stdout",
     "output_type": "stream",
     "text": [
      "946\n",
      "946\n"
     ]
    }
   ],
   "source": [
    "print(len(promoters))\n",
    "print(len(repressors))"
   ]
  },
  {
   "cell_type": "code",
   "execution_count": 54,
   "metadata": {},
   "outputs": [
    {
     "name": "stdout",
     "output_type": "stream",
     "text": [
      "[('BAD', 176)]\n",
      "176\n"
     ]
    }
   ],
   "source": [
    "import collections\n",
    "\n",
    "s = 0\n",
    "max_count = 0\n",
    "for k, v in promoters.items():\n",
    "    s += len(v)\n",
    "    counter = collections.Counter(v)\n",
    "    if counter.most_common(1)[0][1] > max_count:\n",
    "        max_count = counter.most_common(1)[0][1]\n",
    "        if max_count == 176:\n",
    "            print(counter.most_common(1))\n",
    "    \n",
    "for k, v in repressors.items():\n",
    "    s += len(v)\n",
    "    counter = collections.Counter(v)\n",
    "    if counter.most_common(1)[0][1] > max_count:\n",
    "        max_count = counter.most_common(1)[0][1]\n",
    "print(max_count)"
   ]
  },
  {
   "cell_type": "code",
   "execution_count": null,
   "metadata": {
    "collapsed": true
   },
   "outputs": [],
   "source": [
    "header = '''digraph G {\n",
    "'''\n",
    "footer = '''}'''\n",
    "graph_spec = ''\n",
    "graph_spec += header\n",
    "for regulator, promoted in promoters:\n",
    "    regulator = regulator.replace('-', '_')\n",
    "    promoted = promoted.replace('-', '_')\n",
    "    graph_spec += '\\t{A} -> {B};\\n'.format(A=regulator, B=promoted)\n",
    "for regulator, repressed in repressors:\n",
    "    regulator = regulator.replace('-', '_')\n",
    "    repressed = repressed.replace('-', '_')\n",
    "    graph_spec += '\\t{A} -> {B};\\n'.format(A=regulator, B=repressed)\n",
    "graph_spec += footer\n",
    "out_gv = 'sh_rna_graph.gv'\n",
    "with open(out_gv, 'w') as w:\n",
    "    w.write(graph_spec)\n",
    "from subprocess import call\n",
    "call(['dot', out_gv, '-Tpng', '-o', 'sh_rna_graph.png'])"
   ]
  },
  {
   "cell_type": "code",
   "execution_count": 129,
   "metadata": {
    "scrolled": false
   },
   "outputs": [
    {
     "data": {
      "image/png": "[encoded data removed]",
      "text/plain": [
       "<matplotlib.figure.Figure at 0x7f1369adbad0>"
      ]
     },
     "metadata": {},
     "output_type": "display_data"
    },
    {
     "name": "stdout",
     "output_type": "stream",
     "text": [
      "('MIN', -4.8808431625399997, 139)\n",
      "('MAX', 5.0153727531400003, 1712)\n"
     ]
    }
   ],
   "source": [
    "# TODO: Ignore first columns as it's the rid?\n",
    "i = 5\n",
    "to_plot = df[df.columns[i]]\n",
    "plt.hist(to_plot, bins=100)\n",
    "plt.show()\n",
    "print('MIN', to_plot.min(), to_plot.idxmin())\n",
    "print('MAX', to_plot.max(), to_plot.idxmax())\n",
    "rid = df[0:1].rid.iloc[0]"
   ]
  },
  {
   "cell_type": "code",
   "execution_count": 48,
   "metadata": {},
   "outputs": [
    {
     "data": {
      "text/plain": [
       "226"
      ]
     },
     "execution_count": 48,
     "metadata": {},
     "output_type": "execute_result"
    }
   ],
   "source": []
  }
 ],
 "metadata": {
  "kernelspec": {
   "display_name": "cmap",
   "language": "python",
   "name": "cmap"
  },
  "language_info": {
   "codemirror_mode": {
    "name": "ipython",
    "version": 2
   },
   "file_extension": ".py",
   "mimetype": "text/x-python",
   "name": "python",
   "nbconvert_exporter": "python",
   "pygments_lexer": "ipython2",
   "version": "2.7.11"
  }
 },
 "nbformat": 4,
 "nbformat_minor": 2
}
