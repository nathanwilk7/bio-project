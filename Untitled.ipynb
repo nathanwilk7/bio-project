{
 "cells": [
  {
   "cell_type": "code",
   "execution_count": 41,
   "metadata": {},
   "outputs": [],
   "source": [
    "import cmapPy\n",
    "import pdb\n",
    "\n",
    "base_url='https://api.clue.io/api'\n",
    "user_key='24092bd44c6aa36bc21ae81191c81cf3'\n",
    "r = 'perts'\n",
    "f = {'where': \n",
    "     {'pert_type': 'trt_cp'}\n",
    "    }\n",
    "\n",
    "a = cmapPy.clue_api_client.ClueApiClient(base_url=base_url,user_key=user_key)\n",
    "r = a.run_filter_query(r, f)"
   ]
  },
  {
   "cell_type": "code",
   "execution_count": 42,
   "metadata": {},
   "outputs": [],
   "source": [
    "# r[0]\n",
    "for i in range(len(r)):\n",
    "    if r[i]['pert_type'] != 'trt_cp':\n",
    "        print('pert_id', r[i]['pert_id'])\n",
    "        print('pert_type', r[i]['pert_type'])\n",
    "        print('tas', r[i]['tas'])\n",
    "        print('cell tas', r[i]['cell_tas'])"
   ]
  }
 ],
 "metadata": {
  "kernelspec": {
   "display_name": "cmap",
   "language": "python",
   "name": "cmap"
  },
  "language_info": {
   "codemirror_mode": {
    "name": "ipython",
    "version": 2
   },
   "file_extension": ".py",
   "mimetype": "text/x-python",
   "name": "python",
   "nbconvert_exporter": "python",
   "pygments_lexer": "ipython2",
   "version": "2.7.11"
  }
 },
 "nbformat": 4,
 "nbformat_minor": 2
}
