{
 "cells": [
  {
   "cell_type": "code",
   "execution_count": 1,
   "metadata": {
    "collapsed": true
   },
   "outputs": [],
   "source": [
    "import pandas as pd\n",
    "from cmapPy.pandasGEXpress import parse"
   ]
  },
  {
   "cell_type": "code",
   "execution_count": 2,
   "metadata": {
    "collapsed": true
   },
   "outputs": [],
   "source": [
    "filepath = 'GSE70138_Level5.gctx'\n",
    "siginfopath = \"GSE70138_Broad_LINCS_sig_info_2017-03-06.txt\"\n",
    "geneinfopath = 'GSE70138_Broad_LINCS_gene_info_2017-03-06.txt'\n",
    "pertinfopath = 'GSE70138_Broad_LINCS_pert_info_2017-03-06.txt'\n",
    "instinfopath = 'GSE70138_Broad_LINCS_inst_info_2017-03-06.txt'\n",
    "sigmetricsinfopath = 'GSE70138_Broad_LINCS_sig_metrics_2017-03-06.txt'"
   ]
  },
  {
   "cell_type": "code",
   "execution_count": 3,
   "metadata": {},
   "outputs": [
    {
     "name": "stderr",
     "output_type": "stream",
     "text": [
      "/home/nate/bin/anaconda3/envs/cmap/lib/python2.7/site-packages/IPython/core/interactiveshell.py:2718: DtypeWarning: Columns (5) have mixed types. Specify dtype option on import or set low_memory=False.\n",
      "  interactivity=interactivity, compiler=compiler, result=result)\n"
     ]
    },
    {
     "data": {
      "text/plain": [
       "0"
      ]
     },
     "execution_count": 3,
     "metadata": {},
     "output_type": "execute_result"
    }
   ],
   "source": [
    "# Read in signature info\n",
    "sig_info = pd.read_csv(siginfopath, sep=\"\\t\")\n",
    "\n",
    "# Get the signatures associated with gene knockdown or over-expression\n",
    "gene_info = sig_info['sig_id'][sig_info['pert_type'] == 'trt_xpr'] # TODO: Or t\n",
    "len(gene_info)"
   ]
  },
  {
   "cell_type": "code",
   "execution_count": 70,
   "metadata": {},
   "outputs": [
    {
     "data": {
      "text/plain": [
       "array(['ctl_vehicle', 'trt_cp', 'trt_xpr', 'ctl_untrt', 'ctl_vector'], dtype=object)"
      ]
     },
     "execution_count": 70,
     "metadata": {},
     "output_type": "execute_result"
    }
   ],
   "source": [
    "sig_info.pert_type.unique()"
   ]
  },
  {
   "cell_type": "code",
   "execution_count": 73,
   "metadata": {
    "scrolled": true
   },
   "outputs": [
    {
     "ename": "UnboundLocalError",
     "evalue": "local variable 'count' referenced before assignment",
     "output_type": "error",
     "traceback": [
      "\u001b[0;31m---------------------------------------------------------------------------\u001b[0m",
      "\u001b[0;31mUnboundLocalError\u001b[0m                         Traceback (most recent call last)",
      "\u001b[0;32m<ipython-input-73-2d81fc7c61a0>\u001b[0m in \u001b[0;36m<module>\u001b[0;34m()\u001b[0m\n\u001b[1;32m      1\u001b[0m \u001b[0;31m# Get the data for the gene signatures\u001b[0m\u001b[0;34m\u001b[0m\u001b[0;34m\u001b[0m\u001b[0m\n\u001b[0;32m----> 2\u001b[0;31m \u001b[0mgene_only_gctoo\u001b[0m \u001b[0;34m=\u001b[0m \u001b[0mparse\u001b[0m\u001b[0;34m(\u001b[0m\u001b[0mfilepath\u001b[0m\u001b[0;34m,\u001b[0m \u001b[0mcid\u001b[0m\u001b[0;34m=\u001b[0m\u001b[0mgene_info\u001b[0m\u001b[0;34m,\u001b[0m \u001b[0mconvert_neg_666\u001b[0m\u001b[0;34m=\u001b[0m\u001b[0mTrue\u001b[0m\u001b[0;34m)\u001b[0m\u001b[0;34m\u001b[0m\u001b[0m\n\u001b[0m\u001b[1;32m      3\u001b[0m \u001b[0;34m\u001b[0m\u001b[0m\n\u001b[1;32m      4\u001b[0m \u001b[0;31m# TODO: What are the rows? Gene expression across signatures? If so, how to match row to gene?\u001b[0m\u001b[0;34m\u001b[0m\u001b[0;34m\u001b[0m\u001b[0m\n\u001b[1;32m      5\u001b[0m \u001b[0mgene_only_gctoo\u001b[0m\u001b[0;34m.\u001b[0m\u001b[0mdata_df\u001b[0m\u001b[0;34m[\u001b[0m\u001b[0;36m0\u001b[0m\u001b[0;34m:\u001b[0m\u001b[0;36m2\u001b[0m\u001b[0;34m]\u001b[0m\u001b[0;34m\u001b[0m\u001b[0m\n",
      "\u001b[0;32m/home/nate/bin/anaconda3/envs/cmap/lib/python2.7/site-packages/cmapPy/pandasGEXpress/parse.pyc\u001b[0m in \u001b[0;36mparse\u001b[0;34m(file_path, convert_neg_666, rid, cid, ridx, cidx, row_meta_only, col_meta_only, make_multiindex)\u001b[0m\n\u001b[1;32m     58\u001b[0m                 \u001b[0mcurr\u001b[0m \u001b[0;34m=\u001b[0m \u001b[0mparse_gct\u001b[0m\u001b[0;34m.\u001b[0m\u001b[0mparse\u001b[0m\u001b[0;34m(\u001b[0m\u001b[0mfile_path\u001b[0m\u001b[0;34m,\u001b[0m \u001b[0mconvert_neg_666\u001b[0m\u001b[0;34m,\u001b[0m \u001b[0mmake_multiindex\u001b[0m\u001b[0;34m)\u001b[0m\u001b[0;34m\u001b[0m\u001b[0m\n\u001b[1;32m     59\u001b[0m         \u001b[0;32melif\u001b[0m \u001b[0mfile_path\u001b[0m\u001b[0;34m.\u001b[0m\u001b[0mendswith\u001b[0m\u001b[0;34m(\u001b[0m\u001b[0;34m\".gctx\"\u001b[0m\u001b[0;34m)\u001b[0m\u001b[0;34m:\u001b[0m\u001b[0;34m\u001b[0m\u001b[0m\n\u001b[0;32m---> 60\u001b[0;31m                 \u001b[0mcurr\u001b[0m \u001b[0;34m=\u001b[0m \u001b[0mparse_gctx\u001b[0m\u001b[0;34m.\u001b[0m\u001b[0mparse\u001b[0m\u001b[0;34m(\u001b[0m\u001b[0mfile_path\u001b[0m\u001b[0;34m,\u001b[0m \u001b[0mconvert_neg_666\u001b[0m\u001b[0;34m,\u001b[0m \u001b[0mrid\u001b[0m\u001b[0;34m,\u001b[0m \u001b[0mcid\u001b[0m\u001b[0;34m,\u001b[0m \u001b[0mridx\u001b[0m\u001b[0;34m,\u001b[0m \u001b[0mcidx\u001b[0m\u001b[0;34m,\u001b[0m \u001b[0mrow_meta_only\u001b[0m\u001b[0;34m,\u001b[0m \u001b[0mcol_meta_only\u001b[0m\u001b[0;34m,\u001b[0m \u001b[0mmake_multiindex\u001b[0m\u001b[0;34m)\u001b[0m\u001b[0;34m\u001b[0m\u001b[0m\n\u001b[0m\u001b[1;32m     61\u001b[0m         \u001b[0;32melse\u001b[0m\u001b[0;34m:\u001b[0m\u001b[0;34m\u001b[0m\u001b[0m\n\u001b[1;32m     62\u001b[0m                 \u001b[0merr_msg\u001b[0m \u001b[0;34m=\u001b[0m \u001b[0;34m\"File to parse must be .gct or .gctx!\"\u001b[0m\u001b[0;34m\u001b[0m\u001b[0m\n",
      "\u001b[0;32m/home/nate/bin/anaconda3/envs/cmap/lib/python2.7/site-packages/cmapPy/pandasGEXpress/parse_gctx.pyc\u001b[0m in \u001b[0;36mparse\u001b[0;34m(gctx_file_path, convert_neg_666, rid, cid, ridx, cidx, row_meta_only, col_meta_only, make_multiindex)\u001b[0m\n\u001b[1;32m    104\u001b[0m \u001b[0;34m\u001b[0m\u001b[0m\n\u001b[1;32m    105\u001b[0m                 \u001b[0mdata_dset\u001b[0m \u001b[0;34m=\u001b[0m \u001b[0mgctx_file\u001b[0m\u001b[0;34m[\u001b[0m\u001b[0mdata_node\u001b[0m\u001b[0;34m]\u001b[0m\u001b[0;34m\u001b[0m\u001b[0m\n\u001b[0;32m--> 106\u001b[0;31m                 \u001b[0mdata_df\u001b[0m \u001b[0;34m=\u001b[0m \u001b[0mparse_data_df\u001b[0m\u001b[0;34m(\u001b[0m\u001b[0mdata_dset\u001b[0m\u001b[0;34m,\u001b[0m \u001b[0msorted_ridx\u001b[0m\u001b[0;34m,\u001b[0m \u001b[0msorted_cidx\u001b[0m\u001b[0;34m,\u001b[0m \u001b[0mrow_meta\u001b[0m\u001b[0;34m,\u001b[0m \u001b[0mcol_meta\u001b[0m\u001b[0;34m)\u001b[0m\u001b[0;34m\u001b[0m\u001b[0m\n\u001b[0m\u001b[1;32m    107\u001b[0m \u001b[0;34m\u001b[0m\u001b[0m\n\u001b[1;32m    108\u001b[0m                 \u001b[0;31m# (if slicing) slice metadata\u001b[0m\u001b[0;34m\u001b[0m\u001b[0;34m\u001b[0m\u001b[0m\n",
      "\u001b[0;32m/home/nate/bin/anaconda3/envs/cmap/lib/python2.7/site-packages/cmapPy/pandasGEXpress/parse_gctx.pyc\u001b[0m in \u001b[0;36mparse_data_df\u001b[0;34m(data_dset, ridx, cidx, row_meta, col_meta)\u001b[0m\n\u001b[1;32m    308\u001b[0m                 \u001b[0mdata_array\u001b[0m \u001b[0;34m=\u001b[0m \u001b[0mfirst_slice\u001b[0m\u001b[0;34m[\u001b[0m\u001b[0mcidx\u001b[0m\u001b[0;34m,\u001b[0m \u001b[0;34m:\u001b[0m\u001b[0;34m]\u001b[0m\u001b[0;34m.\u001b[0m\u001b[0mtranspose\u001b[0m\u001b[0;34m(\u001b[0m\u001b[0;34m)\u001b[0m\u001b[0;34m\u001b[0m\u001b[0m\n\u001b[1;32m    309\u001b[0m         \u001b[0;32melif\u001b[0m \u001b[0mlen\u001b[0m\u001b[0;34m(\u001b[0m\u001b[0mcidx\u001b[0m\u001b[0;34m)\u001b[0m \u001b[0;34m<\u001b[0m \u001b[0mlen\u001b[0m\u001b[0;34m(\u001b[0m\u001b[0mridx\u001b[0m\u001b[0;34m)\u001b[0m\u001b[0;34m:\u001b[0m\u001b[0;34m\u001b[0m\u001b[0m\n\u001b[0;32m--> 310\u001b[0;31m                 \u001b[0mfirst_slice\u001b[0m \u001b[0;34m=\u001b[0m \u001b[0mdata_dset\u001b[0m\u001b[0;34m[\u001b[0m\u001b[0mcidx\u001b[0m\u001b[0;34m,\u001b[0m \u001b[0;34m:\u001b[0m\u001b[0;34m]\u001b[0m\u001b[0;34m.\u001b[0m\u001b[0mastype\u001b[0m\u001b[0;34m(\u001b[0m\u001b[0mnp\u001b[0m\u001b[0;34m.\u001b[0m\u001b[0mfloat32\u001b[0m\u001b[0;34m)\u001b[0m\u001b[0;34m\u001b[0m\u001b[0m\n\u001b[0m\u001b[1;32m    311\u001b[0m                 \u001b[0mdata_array\u001b[0m \u001b[0;34m=\u001b[0m \u001b[0mfirst_slice\u001b[0m\u001b[0;34m[\u001b[0m\u001b[0;34m:\u001b[0m\u001b[0;34m,\u001b[0m \u001b[0mridx\u001b[0m\u001b[0;34m]\u001b[0m\u001b[0;34m.\u001b[0m\u001b[0mtranspose\u001b[0m\u001b[0;34m(\u001b[0m\u001b[0;34m)\u001b[0m\u001b[0;34m\u001b[0m\u001b[0m\n\u001b[1;32m    312\u001b[0m         \u001b[0;31m# make DataFrame instance\u001b[0m\u001b[0;34m\u001b[0m\u001b[0;34m\u001b[0m\u001b[0m\n",
      "\u001b[0;32mh5py/_objects.pyx\u001b[0m in \u001b[0;36mh5py._objects.with_phil.wrapper (/feedstock_root/build_artefacts/work/h5py-2.6.0/h5py/_objects.c:2840)\u001b[0;34m()\u001b[0m\n",
      "\u001b[0;32mh5py/_objects.pyx\u001b[0m in \u001b[0;36mh5py._objects.with_phil.wrapper (/feedstock_root/build_artefacts/work/h5py-2.6.0/h5py/_objects.c:2798)\u001b[0;34m()\u001b[0m\n",
      "\u001b[0;32m/home/nate/bin/anaconda3/envs/cmap/lib/python2.7/site-packages/h5py/_hl/dataset.pyc\u001b[0m in \u001b[0;36m__getitem__\u001b[0;34m(self, args)\u001b[0m\n\u001b[1;32m    460\u001b[0m \u001b[0;34m\u001b[0m\u001b[0m\n\u001b[1;32m    461\u001b[0m         \u001b[0;31m# Perform the dataspace selection.\u001b[0m\u001b[0;34m\u001b[0m\u001b[0;34m\u001b[0m\u001b[0m\n\u001b[0;32m--> 462\u001b[0;31m         \u001b[0mselection\u001b[0m \u001b[0;34m=\u001b[0m \u001b[0msel\u001b[0m\u001b[0;34m.\u001b[0m\u001b[0mselect\u001b[0m\u001b[0;34m(\u001b[0m\u001b[0mself\u001b[0m\u001b[0;34m.\u001b[0m\u001b[0mshape\u001b[0m\u001b[0;34m,\u001b[0m \u001b[0margs\u001b[0m\u001b[0;34m,\u001b[0m \u001b[0mdsid\u001b[0m\u001b[0;34m=\u001b[0m\u001b[0mself\u001b[0m\u001b[0;34m.\u001b[0m\u001b[0mid\u001b[0m\u001b[0;34m)\u001b[0m\u001b[0;34m\u001b[0m\u001b[0m\n\u001b[0m\u001b[1;32m    463\u001b[0m \u001b[0;34m\u001b[0m\u001b[0m\n\u001b[1;32m    464\u001b[0m         \u001b[0;32mif\u001b[0m \u001b[0mselection\u001b[0m\u001b[0;34m.\u001b[0m\u001b[0mnselect\u001b[0m \u001b[0;34m==\u001b[0m \u001b[0;36m0\u001b[0m\u001b[0;34m:\u001b[0m\u001b[0;34m\u001b[0m\u001b[0m\n",
      "\u001b[0;32m/home/nate/bin/anaconda3/envs/cmap/lib/python2.7/site-packages/h5py/_hl/selections.pyc\u001b[0m in \u001b[0;36mselect\u001b[0;34m(shape, args, dsid)\u001b[0m\n\u001b[1;32m     86\u001b[0m             \u001b[0;32mexcept\u001b[0m \u001b[0mException\u001b[0m\u001b[0;34m:\u001b[0m\u001b[0;34m\u001b[0m\u001b[0m\n\u001b[1;32m     87\u001b[0m                 \u001b[0msel\u001b[0m \u001b[0;34m=\u001b[0m \u001b[0mFancySelection\u001b[0m\u001b[0;34m(\u001b[0m\u001b[0mshape\u001b[0m\u001b[0;34m)\u001b[0m\u001b[0;34m\u001b[0m\u001b[0m\n\u001b[0;32m---> 88\u001b[0;31m                 \u001b[0msel\u001b[0m\u001b[0;34m[\u001b[0m\u001b[0margs\u001b[0m\u001b[0;34m]\u001b[0m\u001b[0;34m\u001b[0m\u001b[0m\n\u001b[0m\u001b[1;32m     89\u001b[0m                 \u001b[0;32mreturn\u001b[0m \u001b[0msel\u001b[0m\u001b[0;34m\u001b[0m\u001b[0m\n\u001b[1;32m     90\u001b[0m \u001b[0;34m\u001b[0m\u001b[0m\n",
      "\u001b[0;32m/home/nate/bin/anaconda3/envs/cmap/lib/python2.7/site-packages/h5py/_hl/selections.pyc\u001b[0m in \u001b[0;36m__getitem__\u001b[0;34m(self, args)\u001b[0m\n\u001b[1;32m    386\u001b[0m         \u001b[0;31m# they correspond to sequence entries\u001b[0m\u001b[0;34m\u001b[0m\u001b[0;34m\u001b[0m\u001b[0m\n\u001b[1;32m    387\u001b[0m \u001b[0;34m\u001b[0m\u001b[0m\n\u001b[0;32m--> 388\u001b[0;31m         \u001b[0mmshape\u001b[0m \u001b[0;34m=\u001b[0m \u001b[0mlist\u001b[0m\u001b[0;34m(\u001b[0m\u001b[0mcount\u001b[0m\u001b[0;34m)\u001b[0m\u001b[0;34m\u001b[0m\u001b[0m\n\u001b[0m\u001b[1;32m    389\u001b[0m         \u001b[0;32mfor\u001b[0m \u001b[0midx\u001b[0m \u001b[0;32min\u001b[0m \u001b[0mxrange\u001b[0m\u001b[0;34m(\u001b[0m\u001b[0mlen\u001b[0m\u001b[0;34m(\u001b[0m\u001b[0mmshape\u001b[0m\u001b[0;34m)\u001b[0m\u001b[0;34m)\u001b[0m\u001b[0;34m:\u001b[0m\u001b[0;34m\u001b[0m\u001b[0m\n\u001b[1;32m    390\u001b[0m             \u001b[0;32mif\u001b[0m \u001b[0midx\u001b[0m \u001b[0;32min\u001b[0m \u001b[0msequenceargs\u001b[0m\u001b[0;34m:\u001b[0m\u001b[0;34m\u001b[0m\u001b[0m\n",
      "\u001b[0;31mUnboundLocalError\u001b[0m: local variable 'count' referenced before assignment"
     ]
    }
   ],
   "source": [
    "# Get the data for the gene signatures\n",
    "gene_only_gctoo = parse(filepath, cid=gene_info, convert_neg_666=True)\n",
    "\n",
    "# TODO: What are the rows? Gene expression across signatures? If so, how to match row to gene?\n",
    "gene_only_gctoo.data_df[0:2]"
   ]
  },
  {
   "cell_type": "code",
   "execution_count": 37,
   "metadata": {
    "scrolled": true
   },
   "outputs": [
    {
     "data": {
      "text/html": [
       "<div>\n",
       "<table border=\"1\" class=\"dataframe\">\n",
       "  <thead>\n",
       "    <tr style=\"text-align: right;\">\n",
       "      <th></th>\n",
       "      <th>pr_gene_id</th>\n",
       "      <th>pr_gene_symbol</th>\n",
       "      <th>pr_gene_title</th>\n",
       "      <th>pr_is_lm</th>\n",
       "      <th>pr_is_bing</th>\n",
       "    </tr>\n",
       "  </thead>\n",
       "  <tbody>\n",
       "    <tr>\n",
       "      <th>0</th>\n",
       "      <td>780</td>\n",
       "      <td>DDR1</td>\n",
       "      <td>discoidin domain receptor tyrosine kinase 1</td>\n",
       "      <td>1</td>\n",
       "      <td>1</td>\n",
       "    </tr>\n",
       "    <tr>\n",
       "      <th>1</th>\n",
       "      <td>7849</td>\n",
       "      <td>PAX8</td>\n",
       "      <td>paired box 8</td>\n",
       "      <td>1</td>\n",
       "      <td>1</td>\n",
       "    </tr>\n",
       "  </tbody>\n",
       "</table>\n",
       "</div>"
      ],
      "text/plain": [
       "   pr_gene_id pr_gene_symbol                                pr_gene_title  \\\n",
       "0         780           DDR1  discoidin domain receptor tyrosine kinase 1   \n",
       "1        7849           PAX8                                 paired box 8   \n",
       "\n",
       "   pr_is_lm  pr_is_bing  \n",
       "0         1           1  \n",
       "1         1           1  "
      ]
     },
     "execution_count": 37,
     "metadata": {},
     "output_type": "execute_result"
    }
   ],
   "source": [
    "gene_ids = pd.read_csv(geneinfopath, sep=\"\\t\")\n",
    "gene_ids[0:2]"
   ]
  },
  {
   "cell_type": "code",
   "execution_count": 38,
   "metadata": {},
   "outputs": [
    {
     "data": {
      "text/html": [
       "<div>\n",
       "<table border=\"1\" class=\"dataframe\">\n",
       "  <thead>\n",
       "    <tr style=\"text-align: right;\">\n",
       "      <th></th>\n",
       "      <th>pr_gene_id</th>\n",
       "      <th>pr_gene_symbol</th>\n",
       "      <th>pr_gene_title</th>\n",
       "      <th>pr_is_lm</th>\n",
       "      <th>pr_is_bing</th>\n",
       "    </tr>\n",
       "  </thead>\n",
       "  <tbody>\n",
       "    <tr>\n",
       "      <th>11788</th>\n",
       "      <td>55620</td>\n",
       "      <td>STAP2</td>\n",
       "      <td>signal transducing adaptor family member 2</td>\n",
       "      <td>1</td>\n",
       "      <td>1</td>\n",
       "    </tr>\n",
       "  </tbody>\n",
       "</table>\n",
       "</div>"
      ],
      "text/plain": [
       "       pr_gene_id pr_gene_symbol                               pr_gene_title  \\\n",
       "11788       55620          STAP2  signal transducing adaptor family member 2   \n",
       "\n",
       "       pr_is_lm  pr_is_bing  \n",
       "11788         1           1  "
      ]
     },
     "execution_count": 38,
     "metadata": {},
     "output_type": "execute_result"
    }
   ],
   "source": [
    "column_id = gene_only_gctoo.data_df.idxmax()[0]\n",
    "gene_ids[gene_ids.pr_gene_id == column_id]"
   ]
  },
  {
   "cell_type": "code",
   "execution_count": 47,
   "metadata": {},
   "outputs": [
    {
     "data": {
      "text/html": [
       "<div>\n",
       "<table border=\"1\" class=\"dataframe\">\n",
       "  <thead>\n",
       "    <tr style=\"text-align: right;\">\n",
       "      <th></th>\n",
       "      <th>sig_id</th>\n",
       "      <th>pert_id</th>\n",
       "      <th>pert_iname</th>\n",
       "      <th>pert_type</th>\n",
       "      <th>cell_id</th>\n",
       "      <th>pert_idose</th>\n",
       "      <th>pert_itime</th>\n",
       "      <th>distil_id</th>\n",
       "    </tr>\n",
       "  </thead>\n",
       "  <tbody>\n",
       "    <tr>\n",
       "      <th>113871</th>\n",
       "      <td>XPR002_A375.311_96H:A03</td>\n",
       "      <td>BRDN0001054785</td>\n",
       "      <td>AKT2</td>\n",
       "      <td>trt_xpr</td>\n",
       "      <td>A375.311</td>\n",
       "      <td>-666</td>\n",
       "      <td>96 h</td>\n",
       "      <td>XPR002_A375.311_96H_X1_B21:A03|XPR002_A375.311...</td>\n",
       "    </tr>\n",
       "    <tr>\n",
       "      <th>113872</th>\n",
       "      <td>XPR002_A375.311_96H:A05</td>\n",
       "      <td>BRDN0001055003</td>\n",
       "      <td>CAMK1</td>\n",
       "      <td>trt_xpr</td>\n",
       "      <td>A375.311</td>\n",
       "      <td>-666</td>\n",
       "      <td>96 h</td>\n",
       "      <td>XPR002_A375.311_96H_X1_B21:A05|XPR002_A375.311...</td>\n",
       "    </tr>\n",
       "  </tbody>\n",
       "</table>\n",
       "</div>"
      ],
      "text/plain": [
       "                         sig_id         pert_id pert_iname pert_type  \\\n",
       "113871  XPR002_A375.311_96H:A03  BRDN0001054785       AKT2   trt_xpr   \n",
       "113872  XPR002_A375.311_96H:A05  BRDN0001055003      CAMK1   trt_xpr   \n",
       "\n",
       "         cell_id pert_idose pert_itime  \\\n",
       "113871  A375.311       -666       96 h   \n",
       "113872  A375.311       -666       96 h   \n",
       "\n",
       "                                                distil_id  \n",
       "113871  XPR002_A375.311_96H_X1_B21:A03|XPR002_A375.311...  \n",
       "113872  XPR002_A375.311_96H_X1_B21:A05|XPR002_A375.311...  "
      ]
     },
     "execution_count": 47,
     "metadata": {},
     "output_type": "execute_result"
    }
   ],
   "source": [
    "sig_id = list(gene_only_gctoo.data_df)[1]\n",
    "sig_info[sig_info.pert_type == 'trt_xpr'][0:2]"
   ]
  },
  {
   "cell_type": "code",
   "execution_count": 69,
   "metadata": {},
   "outputs": [
    {
     "data": {
      "text/plain": [
       "array(['trt_cp', 'ctl_vehicle', 'trt_xpr', 'ctl_untrt', 'ctl_vector'], dtype=object)"
      ]
     },
     "execution_count": 69,
     "metadata": {},
     "output_type": "execute_result"
    }
   ],
   "source": [
    "pert_ids = pd.read_csv(pertinfopath, sep=\"\\t\")\n",
    "pert_ids.pert_type.unique()"
   ]
  },
  {
   "cell_type": "code",
   "execution_count": 67,
   "metadata": {},
   "outputs": [
    {
     "data": {
      "text/plain": [
       "array(['trt_cp', 'ctl_vehicle', 'trt_xpr', 'ctl_untrt', 'ctl_vector'], dtype=object)"
      ]
     },
     "execution_count": 67,
     "metadata": {},
     "output_type": "execute_result"
    }
   ],
   "source": [
    "pert_ids.pert_type.unique()"
   ]
  },
  {
   "cell_type": "code",
   "execution_count": 53,
   "metadata": {},
   "outputs": [
    {
     "data": {
      "text/html": [
       "<div>\n",
       "<table border=\"1\" class=\"dataframe\">\n",
       "  <thead>\n",
       "    <tr style=\"text-align: right;\">\n",
       "      <th></th>\n",
       "      <th>inst_id</th>\n",
       "      <th>cell_id</th>\n",
       "      <th>det_plate</th>\n",
       "      <th>det_well</th>\n",
       "      <th>pert_mfc_id</th>\n",
       "      <th>pert_dose</th>\n",
       "      <th>pert_dose_unit</th>\n",
       "      <th>pert_id</th>\n",
       "      <th>pert_iname</th>\n",
       "      <th>pert_type</th>\n",
       "      <th>pert_time</th>\n",
       "      <th>pert_time_unit</th>\n",
       "    </tr>\n",
       "  </thead>\n",
       "  <tbody>\n",
       "    <tr>\n",
       "      <th>0</th>\n",
       "      <td>LJP005_A375_24H_X1_B19:A03</td>\n",
       "      <td>A375</td>\n",
       "      <td>LJP005_A375_24H_X1_B19</td>\n",
       "      <td>A03</td>\n",
       "      <td>DMSO</td>\n",
       "      <td>-666.0</td>\n",
       "      <td>-666</td>\n",
       "      <td>DMSO</td>\n",
       "      <td>DMSO</td>\n",
       "      <td>ctl_vehicle</td>\n",
       "      <td>24.0</td>\n",
       "      <td>h</td>\n",
       "    </tr>\n",
       "    <tr>\n",
       "      <th>1</th>\n",
       "      <td>LPROT001_A375_6H_X1_B20:B03</td>\n",
       "      <td>A375</td>\n",
       "      <td>LPROT001_A375_6H_X1_B20</td>\n",
       "      <td>B03</td>\n",
       "      <td>DMSO</td>\n",
       "      <td>-666.0</td>\n",
       "      <td>-666</td>\n",
       "      <td>DMSO</td>\n",
       "      <td>DMSO</td>\n",
       "      <td>ctl_vehicle</td>\n",
       "      <td>6.0</td>\n",
       "      <td>h</td>\n",
       "    </tr>\n",
       "  </tbody>\n",
       "</table>\n",
       "</div>"
      ],
      "text/plain": [
       "                       inst_id cell_id                det_plate det_well  \\\n",
       "0   LJP005_A375_24H_X1_B19:A03    A375   LJP005_A375_24H_X1_B19      A03   \n",
       "1  LPROT001_A375_6H_X1_B20:B03    A375  LPROT001_A375_6H_X1_B20      B03   \n",
       "\n",
       "  pert_mfc_id  pert_dose pert_dose_unit pert_id pert_iname    pert_type  \\\n",
       "0        DMSO     -666.0           -666    DMSO       DMSO  ctl_vehicle   \n",
       "1        DMSO     -666.0           -666    DMSO       DMSO  ctl_vehicle   \n",
       "\n",
       "   pert_time pert_time_unit  \n",
       "0       24.0              h  \n",
       "1        6.0              h  "
      ]
     },
     "execution_count": 53,
     "metadata": {},
     "output_type": "execute_result"
    }
   ],
   "source": [
    "inst_ids = pd.read_csv(instinfopath, sep=\"\\t\")\n",
    "inst_ids[0:2]"
   ]
  },
  {
   "cell_type": "code",
   "execution_count": 68,
   "metadata": {},
   "outputs": [
    {
     "data": {
      "text/plain": [
       "array(['ctl_vehicle', 'trt_cp', 'trt_xpr', 'ctl_untrt', 'ctl_vector'], dtype=object)"
      ]
     },
     "execution_count": 68,
     "metadata": {},
     "output_type": "execute_result"
    }
   ],
   "source": [
    "inst_ids = pd.read_csv(sigmetricsinfopath, sep=\"\\t\")\n",
    "inst_ids.pert_type.unique()"
   ]
  }
 ],
 "metadata": {
  "kernelspec": {
   "display_name": "cmap",
   "language": "python",
   "name": "cmap"
  },
  "language_info": {
   "codemirror_mode": {
    "name": "ipython",
    "version": 2
   },
   "file_extension": ".py",
   "mimetype": "text/x-python",
   "name": "python",
   "nbconvert_exporter": "python",
   "pygments_lexer": "ipython2",
   "version": "2.7.11"
  }
 },
 "nbformat": 4,
 "nbformat_minor": 2
}
